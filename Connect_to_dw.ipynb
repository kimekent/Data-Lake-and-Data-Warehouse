{
 "cells": [
  {
   "cell_type": "code",
   "execution_count": 18,
   "id": "1b22fd75",
   "metadata": {},
   "outputs": [],
   "source": [
    "import psycopg2\n",
    "import cred"
   ]
  },
  {
   "cell_type": "code",
   "execution_count": 19,
   "id": "2dd920f7",
   "metadata": {},
   "outputs": [],
   "source": [
    "def connect():\n",
    "    \n",
    "    # Set up a connection to the postgres server.\n",
    "    conn_string = \"host=\"+ cred.ENDPOINT +\" port=\"+ \"5432\" +\" dbname=\"+ cred.DB_NAME +\" user=\" + cred.USERNAME \\\n",
    "                  +\" password=\"+ cred.PASSWORD\n",
    "    \n",
    "    conn = psycopg2.connect(conn_string)\n",
    "    print(\"Connected!\")\n",
    "\n",
    "    # Create a cursor object\n",
    "    cursor = conn.cursor()\n",
    "    \n",
    "    return conn, cursor"
   ]
  },
  {
   "cell_type": "code",
   "execution_count": 20,
   "id": "5830766b",
   "metadata": {},
   "outputs": [
    {
     "name": "stdout",
     "output_type": "stream",
     "text": [
      "Connected!\n",
      "Column names: ['_id', 'city_id', 'city_name', 'country_name', 'good_id', 'item_name', 'category_id', 'category_name', 'price_min', 'pirce_avg', 'price_max', 'usd-min', 'usd-avg', 'usd-max', 'measure', 'currency_code']\n",
      "\n"
     ]
    }
   ],
   "source": [
    "# Connecting to DB\n",
    "conn, cursor = connect()\n",
    "\n",
    "column_names = []\n",
    "\n",
    "# Fetch column_names of costlivingprices table   \n",
    "with conn.cursor() as cursor:\n",
    "    cursor.execute(\"SELECT column_name FROM information_schema.columns where table_schema = 'public' and table_name='costlivingprices'\")\n",
    "    column_names = [row[0] for row in cursor]\n",
    "\n",
    "print(\"Column names: {}\\n\".format(column_names))"
   ]
  },
  {
   "cell_type": "code",
   "execution_count": 17,
   "id": "d862b1ba",
   "metadata": {},
   "outputs": [],
   "source": [
    "#close connection\n",
    "conn.close ()"
   ]
  }
 ],
 "metadata": {
  "kernelspec": {
   "display_name": "Python 3",
   "language": "python",
   "name": "python3"
  },
  "language_info": {
   "codemirror_mode": {
    "name": "ipython",
    "version": 3
   },
   "file_extension": ".py",
   "mimetype": "text/x-python",
   "name": "python",
   "nbconvert_exporter": "python",
   "pygments_lexer": "ipython3",
   "version": "3.9.3"
  }
 },
 "nbformat": 4,
 "nbformat_minor": 5
}
